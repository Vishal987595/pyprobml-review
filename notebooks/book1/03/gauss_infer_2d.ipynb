{
  "cells": [
    {
      "cell_type": "markdown",
      "source": [
        "# Illustration of Bayesian inference for a 2d Gaussian random vector z"
      ],
      "metadata": {
        "id": "kV8dt83JzN1n"
      }
    },
    {
      "cell_type": "markdown",
      "source": [
        "### Importing probml_utils library"
      ],
      "metadata": {
        "id": "wB037kg4jb-F"
      }
    },
    {
      "cell_type": "code",
      "execution_count": null,
      "metadata": {
        "id": "hMylJdjIulS_"
      },
      "outputs": [],
      "source": [
        "try:\n",
        "    from probml_utils import savefig, latexify\n",
        "except ModuleNotFoundError :\n",
        "    %pip install git+https://github.com/probml/probml-utils.git\n",
        "    from probml_utils import savefig, latexify"
      ]
    },
    {
      "cell_type": "markdown",
      "source": [
        "### Importing other libraries"
      ],
      "metadata": {
        "id": "Aj_ZHIYvjhlr"
      }
    },
    {
      "cell_type": "code",
      "source": [
        "import jax\n",
        "import jax.numpy as jnp\n",
        "import matplotlib.pyplot as plt\n",
        "import seaborn as sns\n",
        "from jax.numpy.linalg import cholesky\n",
        "from jax.scipy.linalg import inv\n",
        "from scipy.stats import multivariate_normal"
      ],
      "metadata": {
        "id": "8fd_Z7xcdxmB"
      },
      "execution_count": 2,
      "outputs": []
    },
    {
      "cell_type": "markdown",
      "source": [
        "### Set latexify params"
      ],
      "metadata": {
        "id": "NsqugWFnjmVM"
      }
    },
    {
      "cell_type": "code",
      "execution_count": 3,
      "metadata": {
        "id": "g-gO9CA6xwnF",
        "colab": {
          "base_uri": "https://localhost:8080/"
        },
        "outputId": "f6bf8239-558a-417c-bb5f-09606a45bfe0"
      },
      "outputs": [
        {
          "output_type": "stream",
          "name": "stderr",
          "text": [
            "/usr/local/lib/python3.7/dist-packages/probml_utils/plotting.py:26: UserWarning: LATEXIFY environment variable not set, not latexifying\n",
            "  warnings.warn(\"LATEXIFY environment variable not set, not latexifying\")\n"
          ]
        }
      ],
      "source": [
        "latexify(width_scale_factor=3, fig_height=1.5)"
      ]
    },
    {
      "cell_type": "markdown",
      "source": [
        "### Function declarations"
      ],
      "metadata": {
        "id": "veI4lwHNjrPd"
      }
    },
    {
      "cell_type": "code",
      "source": [
        "def gaussSample(mu, sigma, n,key):\n",
        "    decomposition = cholesky(sigma)\n",
        "    normal_distribution = jax.random.normal(key,shape=(len(mu), n))\n",
        "    return jnp.dot(decomposition, normal_distribution).T + mu"
      ],
      "metadata": {
        "id": "Ve8rzQiw4Eui"
      },
      "execution_count": 4,
      "outputs": []
    },
    {
      "cell_type": "code",
      "source": [
        "def plot_data(x,muTrue,savename,title,fig=None,ax=None):\n",
        "  if ax is None:\n",
        "        fig, ax = plt.subplots()\n",
        "  ax.plot(x[:, 0], x[:, 1], \"o\",  markerfacecolor=\"b\",label='$y_n$')\n",
        "  ax.set_ylim([-1, 1])\n",
        "  ax.set_xlim([-1, 1])\n",
        "  ax.set_title(title)\n",
        "  ax.set_xlabel(\"$y_1$\")\n",
        "  ax.set_ylabel(\"$y_2$\")\n",
        "  ax.plot(muTrue[0], muTrue[1], \"x\",  markerfacecolor=\"black\", color=\"k\",label='z')\n",
        "  ax.legend(loc=\"upper left\",fontsize = 7)\n",
        "  plt.gca().set_aspect('equal')\n",
        "  sns.despine()\n",
        "  if len(savename) > 0:\n",
        "        savefig(savename)\n",
        "  return fig,ax"
      ],
      "metadata": {
        "id": "5kFAnywh2x9Q"
      },
      "execution_count": 5,
      "outputs": []
    },
    {
      "cell_type": "code",
      "source": [
        "def make_contour_plot(x1,x2,p,savename,title,fig=None,ax=None):\n",
        "  if ax is None:\n",
        "        fig, ax = plt.subplots()\n",
        "  contour=ax.contourf(x1,x2,p)\n",
        "  fig.colorbar(contour,ax=ax)\n",
        "  \n",
        "  ax.set_ylim([-1, 1])\n",
        "  ax.set_xlim([-1, 1])\n",
        "  ax.set_title(title)\n",
        "  ax.set_xlabel(\"$z_1$\")\n",
        "  ax.set_ylabel(\"$z_2$\")\n",
        "  plt.gca().set_aspect('equal')\n",
        "  sns.despine()\n",
        "  if len(savename) > 0:\n",
        "        savefig(savename)\n",
        "  return fig, ax"
      ],
      "metadata": {
        "id": "ATOm8injxRGb"
      },
      "execution_count": 6,
      "outputs": []
    },
    {
      "cell_type": "code",
      "execution_count": 7,
      "metadata": {
        "id": "A-zIn0L_yaAj",
        "colab": {
          "base_uri": "https://localhost:8080/",
          "height": 944
        },
        "outputId": "5bc57043-06f5-40fa-e641-7399ee803ae1"
      },
      "outputs": [
        {
          "output_type": "stream",
          "name": "stderr",
          "text": [
            "WARNING:absl:No GPU/TPU found, falling back to CPU. (Set TF_CPP_MIN_LOG_LEVEL=0 and rerun for more info.)\n",
            "/usr/local/lib/python3.7/dist-packages/probml_utils/plotting.py:79: UserWarning: set FIG_DIR environment variable to save figures\n",
            "  warnings.warn(\"set FIG_DIR environment variable to save figures\")\n"
          ]
        },
        {
          "output_type": "execute_result",
          "data": {
            "text/plain": [
              "(<Figure size 432x288 with 2 Axes>,\n",
              " <matplotlib.axes._subplots.AxesSubplot at 0x7f50aad26050>)"
            ]
          },
          "metadata": {},
          "execution_count": 7
        },
        {
          "output_type": "display_data",
          "data": {
            "text/plain": [
              "<Figure size 432x288 with 1 Axes>"
            ],
            "image/png": "[encoded data removed]"
          },
          "metadata": {
            "needs_background": "light"
          }
        },
        {
          "output_type": "display_data",
          "data": {
            "text/plain": [
              "<Figure size 432x288 with 2 Axes>"
            ],
            "image/png": "[encoded data removed]"
          },
          "metadata": {
            "needs_background": "light"
          }
        },
        {
          "output_type": "display_data",
          "data": {
            "text/plain": [
              "<Figure size 432x288 with 2 Axes>"
            ],
            "image/png": "[encoded data removed]"
          },
          "metadata": {
            "needs_background": "light"
          }
        }
      ],
      "source": [
        "data = {}\n",
        "prior = {}\n",
        "post = {} \n",
        "key = jax.random.PRNGKey(5)\n",
        "\n",
        "n_points=10 # number of sample data points\n",
        "\n",
        "#Part A\n",
        "z = jnp.array([0.5,0.5])\n",
        "sigma_data = 0.1 * jnp.array([[2, 1], [1, 1]])\n",
        "\n",
        "data[\"mu\"] = z\n",
        "data[\"Sigma\"] = sigma_data\n",
        "sample_points = gaussSample(data[\"mu\"], data[\"Sigma\"], n_points,key)\n",
        "plot_data(sample_points,z,'gauss_infer_2d_(a)_latexified','Data')\n",
        "\n",
        "#Part B\n",
        "xyrange = jnp.array([[-1, 1], [-1, 1]])\n",
        "npoints = 100j\n",
        "prior[\"mu\"] = jnp.array([0, 0])\n",
        "prior[\"Sigma\"] = 0.1 * jnp.eye(2)\n",
        "mesh = jnp.mgrid[xyrange[0, 0] : xyrange[0, 1] : npoints, xyrange[1, 0] : xyrange[1, 1] : npoints]\n",
        "x1, x2 = mesh[0], mesh[1]\n",
        "points = jnp.vstack([jnp.ravel(x1), jnp.ravel(x2)]).T\n",
        "prior_pdf = multivariate_normal.pdf(points, mean=prior[\"mu\"], cov=prior[\"Sigma\"]).reshape(x1.shape[0], x2.shape[0])\n",
        "\n",
        "make_contour_plot(x1,x2,prior_pdf,'gauss_infer_2d_(b)_latexified','Prior')\n",
        "\n",
        "#Part C\n",
        "data_after_n = sample_points[: n_points, :]\n",
        "s0_inv = inv(prior[\"Sigma\"])\n",
        "s_inv = inv(sigma_data)\n",
        "post[\"Sigma\"] = inv(s0_inv + n_points * s_inv )\n",
        "mean = jnp.mean(data_after_n, 0)\n",
        "post[\"mu\"] =jnp.dot(post[\"Sigma\"], (jnp.dot(n_points, jnp.dot(s_inv , mean)) + jnp.dot(s0_inv, prior[\"mu\"])))\n",
        "post_pdf = multivariate_normal.pdf(points, mean=post[\"mu\"], cov=post[\"Sigma\"]).reshape(x1.shape[0], x2.shape[0])\n",
        "make_contour_plot(x1,x2,post_pdf,'gauss_infer_2d_(c)_latexified','Posterior after '+str(n_points)+' points')"
      ]
    },
    {
      "cell_type": "code",
      "source": [
        "fig, (ax1, ax2,ax3) = plt.subplots(1,3,figsize=(15,5))\n",
        "plot_data(sample_points,z,'','Data (Bivariate Gaussian Distribution)',fig=fig,ax=ax1)\n",
        "make_contour_plot(x1,x2,prior_pdf,'','Prior ',fig=fig,ax=ax2)\n",
        "make_contour_plot(x1,x2,post_pdf,'','Posterior after '+str(n_points)+' points',fig=fig,ax=ax3)\n",
        "plt.show()"
      ],
      "metadata": {
        "colab": {
          "base_uri": "https://localhost:8080/",
          "height": 352
        },
        "id": "j7lS5tD4byLk",
        "outputId": "bbaa3fbc-85c9-478d-88ed-032724736cda"
      },
      "execution_count": 10,
      "outputs": [
        {
          "output_type": "display_data",
          "data": {
            "text/plain": [
              "<Figure size 1080x360 with 5 Axes>"
            ],
            "image/png": "[encoded data removed]"
          },
          "metadata": {
            "needs_background": "light"
          }
        }
      ]
    },
    {
      "cell_type": "markdown",
      "source": [
        "### Interactive plot"
      ],
      "metadata": {
        "id": "ZGHdlkChkEOM"
      }
    },
    {
      "cell_type": "code",
      "execution_count": 11,
      "metadata": {
        "colab": {
          "base_uri": "https://localhost:8080/",
          "height": 361,
          "referenced_widgets": [
            "9ec05fe241694c149383a671a5fe0e92",
            "9764bc69908c44fe950627e9824a9e0a",
            "4d714d4f3f9449eb8ee82616ed8b130e",
            "571b7ed81aee4e69a4e26c4c287a6199",
            "7eadfec7609c42cd988f56237a051eaa",
            "5d87f5f9504e4dc48a3b058fdb2eb56f",
            "e681ffa8fed545d59fbb7d191cbdf48b",
            "20687fcbc2d84d47884fc522518d1ec9",
            "9cdf4bf9e2a74762a3ce4da549c31f18",
            "a7761f7cc5c545448e56ef49bb9994f0"
          ]
        },
        "id": "SV_IOj6wJRAq",
        "outputId": "598c0941-198b-4dc1-bac3-fd012d575950"
      },
      "outputs": [
        {
          "output_type": "display_data",
          "data": {
            "text/plain": [
              "interactive(children=(IntSlider(value=5, description='random_state', max=10, min=1), IntSlider(value=10, descr…"
            ],
            "application/vnd.jupyter.widget-view+json": {
              "version_major": 2,
              "version_minor": 0,
              "model_id": "9ec05fe241694c149383a671a5fe0e92"
            }
          },
          "metadata": {}
        }
      ],
      "source": [
        "from ipywidgets import interact\n",
        "\n",
        "@interact(random_state=(1, 10),n_=(1,20))\n",
        "def generate_random(random_state,n_=10):\n",
        "    key = jax.random.PRNGKey(random_state)\n",
        "    sample_points = gaussSample(data[\"mu\"], data[\"Sigma\"], n_,key)\n",
        "    plot_data(sample_points,z,'','Data')\n",
        "    plt.show()\n"
      ]
    },
    {
      "cell_type": "code",
      "source": [
        ""
      ],
      "metadata": {
        "id": "8kN0v9cWwzgF"
      },
      "execution_count": null,
      "outputs": []
    }
  ],
  "metadata": {
    "colab": {
      "name": "gauss_infer_2d.ipynb",
      "provenance": [],
      "collapsed_sections": []
    },
    "kernelspec": {
      "display_name": "Python 3",
      "name": "python3"
    },
    "language_info": {
      "name": "python"
    },
    "widgets": {
      "application/vnd.jupyter.widget-state+json": {
        "9ec05fe241694c149383a671a5fe0e92": {
          "model_module": "@jupyter-widgets/controls",
          "model_name": "VBoxModel",
          "model_module_version": "1.5.0",
          "state": {
            "_dom_classes": [
              "widget-interact"
            ],
            "_model_module": "@jupyter-widgets/controls",
            "_model_module_version": "1.5.0",
            "_model_name": "VBoxModel",
            "_view_count": null,
            "_view_module": "@jupyter-widgets/controls",
            "_view_module_version": "1.5.0",
            "_view_name": "VBoxView",
            "box_style": "",
            "children": [
              "IPY_MODEL_9764bc69908c44fe950627e9824a9e0a",
              "IPY_MODEL_4d714d4f3f9449eb8ee82616ed8b130e",
              "IPY_MODEL_571b7ed81aee4e69a4e26c4c287a6199"
            ],
            "layout": "IPY_MODEL_7eadfec7609c42cd988f56237a051eaa"
          }
        },
        "9764bc69908c44fe950627e9824a9e0a": {
          "model_module": "@jupyter-widgets/controls",
          "model_name": "IntSliderModel",
          "model_module_version": "1.5.0",
          "state": {
            "_dom_classes": [],
            "_model_module": "@jupyter-widgets/controls",
            "_model_module_version": "1.5.0",
            "_model_name": "IntSliderModel",
            "_view_count": null,
            "_view_module": "@jupyter-widgets/controls",
            "_view_module_version": "1.5.0",
            "_view_name": "IntSliderView",
            "continuous_update": true,
            "description": "random_state",
            "description_tooltip": null,
            "disabled": false,
            "layout": "IPY_MODEL_5d87f5f9504e4dc48a3b058fdb2eb56f",
            "max": 10,
            "min": 1,
            "orientation": "horizontal",
            "readout": true,
            "readout_format": "d",
            "step": 1,
            "style": "IPY_MODEL_e681ffa8fed545d59fbb7d191cbdf48b",
            "value": 5
          }
        },
        "4d714d4f3f9449eb8ee82616ed8b130e": {
          "model_module": "@jupyter-widgets/controls",
          "model_name": "IntSliderModel",
          "model_module_version": "1.5.0",
          "state": {
            "_dom_classes": [],
            "_model_module": "@jupyter-widgets/controls",
            "_model_module_version": "1.5.0",
            "_model_name": "IntSliderModel",
            "_view_count": null,
            "_view_module": "@jupyter-widgets/controls",
            "_view_module_version": "1.5.0",
            "_view_name": "IntSliderView",
            "continuous_update": true,
            "description": "n_",
            "description_tooltip": null,
            "disabled": false,
            "layout": "IPY_MODEL_20687fcbc2d84d47884fc522518d1ec9",
            "max": 20,
            "min": 1,
            "orientation": "horizontal",
            "readout": true,
            "readout_format": "d",
            "step": 1,
            "style": "IPY_MODEL_9cdf4bf9e2a74762a3ce4da549c31f18",
            "value": 10
          }
        },
        "571b7ed81aee4e69a4e26c4c287a6199": {
          "model_module": "@jupyter-widgets/output",
          "model_name": "OutputModel",
          "model_module_version": "1.0.0",
          "state": {
            "_dom_classes": [],
            "_model_module": "@jupyter-widgets/output",
            "_model_module_version": "1.0.0",
            "_model_name": "OutputModel",
            "_view_count": null,
            "_view_module": "@jupyter-widgets/output",
            "_view_module_version": "1.0.0",
            "_view_name": "OutputView",
            "layout": "IPY_MODEL_a7761f7cc5c545448e56ef49bb9994f0",
            "msg_id": "",
            "outputs": [
              {
                "output_type": "display_data",
                "data": {
                  "text/plain": "<Figure size 432x288 with 1 Axes>",
                  "image/png": "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\n"
                },
                "metadata": {
                  "needs_background": "light"
                }
              }
            ]
          }
        },
        "7eadfec7609c42cd988f56237a051eaa": {
          "model_module": "@jupyter-widgets/base",
          "model_name": "LayoutModel",
          "model_module_version": "1.2.0",
          "state": {
            "_model_module": "@jupyter-widgets/base",
            "_model_module_version": "1.2.0",
            "_model_name": "LayoutModel",
            "_view_count": null,
            "_view_module": "@jupyter-widgets/base",
            "_view_module_version": "1.2.0",
            "_view_name": "LayoutView",
            "align_content": null,
            "align_items": null,
            "align_self": null,
            "border": null,
            "bottom": null,
            "display": null,
            "flex": null,
            "flex_flow": null,
            "grid_area": null,
            "grid_auto_columns": null,
            "grid_auto_flow": null,
            "grid_auto_rows": null,
            "grid_column": null,
            "grid_gap": null,
            "grid_row": null,
            "grid_template_areas": null,
            "grid_template_columns": null,
            "grid_template_rows": null,
            "height": null,
            "justify_content": null,
            "justify_items": null,
            "left": null,
            "margin": null,
            "max_height": null,
            "max_width": null,
            "min_height": null,
            "min_width": null,
            "object_fit": null,
            "object_position": null,
            "order": null,
            "overflow": null,
            "overflow_x": null,
            "overflow_y": null,
            "padding": null,
            "right": null,
            "top": null,
            "visibility": null,
            "width": null
          }
        },
        "5d87f5f9504e4dc48a3b058fdb2eb56f": {
          "model_module": "@jupyter-widgets/base",
          "model_name": "LayoutModel",
          "model_module_version": "1.2.0",
          "state": {
            "_model_module": "@jupyter-widgets/base",
            "_model_module_version": "1.2.0",
            "_model_name": "LayoutModel",
            "_view_count": null,
            "_view_module": "@jupyter-widgets/base",
            "_view_module_version": "1.2.0",
            "_view_name": "LayoutView",
            "align_content": null,
            "align_items": null,
            "align_self": null,
            "border": null,
            "bottom": null,
            "display": null,
            "flex": null,
            "flex_flow": null,
            "grid_area": null,
            "grid_auto_columns": null,
            "grid_auto_flow": null,
            "grid_auto_rows": null,
            "grid_column": null,
            "grid_gap": null,
            "grid_row": null,
            "grid_template_areas": null,
            "grid_template_columns": null,
            "grid_template_rows": null,
            "height": null,
            "justify_content": null,
            "justify_items": null,
            "left": null,
            "margin": null,
            "max_height": null,
            "max_width": null,
            "min_height": null,
            "min_width": null,
            "object_fit": null,
            "object_position": null,
            "order": null,
            "overflow": null,
            "overflow_x": null,
            "overflow_y": null,
            "padding": null,
            "right": null,
            "top": null,
            "visibility": null,
            "width": null
          }
        },
        "e681ffa8fed545d59fbb7d191cbdf48b": {
          "model_module": "@jupyter-widgets/controls",
          "model_name": "SliderStyleModel",
          "model_module_version": "1.5.0",
          "state": {
            "_model_module": "@jupyter-widgets/controls",
            "_model_module_version": "1.5.0",
            "_model_name": "SliderStyleModel",
            "_view_count": null,
            "_view_module": "@jupyter-widgets/base",
            "_view_module_version": "1.2.0",
            "_view_name": "StyleView",
            "description_width": "",
            "handle_color": null
          }
        },
        "20687fcbc2d84d47884fc522518d1ec9": {
          "model_module": "@jupyter-widgets/base",
          "model_name": "LayoutModel",
          "model_module_version": "1.2.0",
          "state": {
            "_model_module": "@jupyter-widgets/base",
            "_model_module_version": "1.2.0",
            "_model_name": "LayoutModel",
            "_view_count": null,
            "_view_module": "@jupyter-widgets/base",
            "_view_module_version": "1.2.0",
            "_view_name": "LayoutView",
            "align_content": null,
            "align_items": null,
            "align_self": null,
            "border": null,
            "bottom": null,
            "display": null,
            "flex": null,
            "flex_flow": null,
            "grid_area": null,
            "grid_auto_columns": null,
            "grid_auto_flow": null,
            "grid_auto_rows": null,
            "grid_column": null,
            "grid_gap": null,
            "grid_row": null,
            "grid_template_areas": null,
            "grid_template_columns": null,
            "grid_template_rows": null,
            "height": null,
            "justify_content": null,
            "justify_items": null,
            "left": null,
            "margin": null,
            "max_height": null,
            "max_width": null,
            "min_height": null,
            "min_width": null,
            "object_fit": null,
            "object_position": null,
            "order": null,
            "overflow": null,
            "overflow_x": null,
            "overflow_y": null,
            "padding": null,
            "right": null,
            "top": null,
            "visibility": null,
            "width": null
          }
        },
        "9cdf4bf9e2a74762a3ce4da549c31f18": {
          "model_module": "@jupyter-widgets/controls",
          "model_name": "SliderStyleModel",
          "model_module_version": "1.5.0",
          "state": {
            "_model_module": "@jupyter-widgets/controls",
            "_model_module_version": "1.5.0",
            "_model_name": "SliderStyleModel",
            "_view_count": null,
            "_view_module": "@jupyter-widgets/base",
            "_view_module_version": "1.2.0",
            "_view_name": "StyleView",
            "description_width": "",
            "handle_color": null
          }
        },
        "a7761f7cc5c545448e56ef49bb9994f0": {
          "model_module": "@jupyter-widgets/base",
          "model_name": "LayoutModel",
          "model_module_version": "1.2.0",
          "state": {
            "_model_module": "@jupyter-widgets/base",
            "_model_module_version": "1.2.0",
            "_model_name": "LayoutModel",
            "_view_count": null,
            "_view_module": "@jupyter-widgets/base",
            "_view_module_version": "1.2.0",
            "_view_name": "LayoutView",
            "align_content": null,
            "align_items": null,
            "align_self": null,
            "border": null,
            "bottom": null,
            "display": null,
            "flex": null,
            "flex_flow": null,
            "grid_area": null,
            "grid_auto_columns": null,
            "grid_auto_flow": null,
            "grid_auto_rows": null,
            "grid_column": null,
            "grid_gap": null,
            "grid_row": null,
            "grid_template_areas": null,
            "grid_template_columns": null,
            "grid_template_rows": null,
            "height": null,
            "justify_content": null,
            "justify_items": null,
            "left": null,
            "margin": null,
            "max_height": null,
            "max_width": null,
            "min_height": null,
            "min_width": null,
            "object_fit": null,
            "object_position": null,
            "order": null,
            "overflow": null,
            "overflow_x": null,
            "overflow_y": null,
            "padding": null,
            "right": null,
            "top": null,
            "visibility": null,
            "width": null
          }
        }
      }
    }
  },
  "nbformat": 4,
  "nbformat_minor": 0
}