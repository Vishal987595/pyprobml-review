{
 "cells": [
  {
   "cell_type": "code",
   "execution_count": 1,
   "id": "0d1d3fc2",
   "metadata": {},
   "outputs": [],
   "source": [
    "# We illustrate effect of prior on parameters for logistic regression\n",
    "# Based on fig 11.3 of\n",
    "# [Statistical Rethinking ed 2](https://xcelab.net/rm/statistical-rethinking/).\n",
    "\n",
    "try:\n",
    "    import probml_utils as pml\n",
    "except ModuleNotFoundError:\n",
    "    %pip install -qq git+https://github.com/probml/probml-utils.git\n",
    "    import probml_utils as pml\n",
    "import numpy as np\n",
    "\n",
    "np.set_printoptions(precision=3)\n",
    "import matplotlib.pyplot as plt\n",
    "%matplotlib inline\n",
    "import seaborn as sns\n",
    "from scipy import stats\n",
    "\n",
    "try:\n",
    "    import arviz as az\n",
    "except ModuleNotFoundError:\n",
    "    %pip install -qq arviz\n",
    "    import arviz as az\n",
    "from scipy.special import expit"
   ]
  },
  {
   "cell_type": "code",
   "execution_count": 2,
   "id": "7ac0dc19",
   "metadata": {},
   "outputs": [
    {
     "name": "stderr",
     "output_type": "stream",
     "text": [
      "/home/vishal/anaconda3/envs/pyprob/lib/python3.7/site-packages/probml_utils/plotting.py:26: UserWarning: LATEXIFY environment variable not set, not latexifying\n",
      "  warnings.warn(\"LATEXIFY environment variable not set, not latexifying\")\n"
     ]
    }
   ],
   "source": [
    "pml.latexify(width_scale_factor=2, fig_height=1)"
   ]
  },
  {
   "cell_type": "code",
   "execution_count": 3,
   "id": "da726cf5",
   "metadata": {},
   "outputs": [
    {
     "name": "stderr",
     "output_type": "stream",
     "text": [
      "/home/vishal/anaconda3/envs/pyprob/lib/python3.7/site-packages/probml_utils/plotting.py:80: UserWarning: set FIG_DIR environment variable to save figures\n",
      "  warnings.warn(\"set FIG_DIR environment variable to save figures\")\n"
     ]
    },
    {
     "data": {
      "image/png": "[encoded data removed]",
      "text/plain": [
       "<Figure size 432x288 with 1 Axes>"
      ]
     },
     "metadata": {
      "needs_background": "light"
     },
     "output_type": "display_data"
    }
   ],
   "source": [
    "sigmas = [1.5, 10]\n",
    "fig, ax = plt.subplots()\n",
    "colors = [\"r\", \"k\"]\n",
    "np.random.seed(0)\n",
    "for i in range(2):\n",
    "    sigma = sigmas[i]\n",
    "    N = 1000\n",
    "    a = stats.norm(0, sigma).rvs((N))\n",
    "    logits = a\n",
    "    probs = expit(logits)\n",
    "    label = r\"variance={:0.2f}\".format(sigma)\n",
    "    az.plot_kde(probs, ax=ax, plot_kwargs={\"color\": colors[i]}, label=label, legend=True)\n",
    "\n",
    "sns.despine()\n",
    "pml.savefig(\"logreg_prior_offset\", bbox_tight=True)\n",
    "plt.show()"
   ]
  },
  {
   "cell_type": "code",
   "execution_count": null,
   "id": "2220a76f",
   "metadata": {},
   "outputs": [],
   "source": []
  }
 ],
 "metadata": {
  "kernelspec": {
   "display_name": "Python 3 (ipykernel)",
   "language": "python",
   "name": "python3"
  },
  "language_info": {
   "codemirror_mode": {
    "name": "ipython",
    "version": 3
   },
   "file_extension": ".py",
   "mimetype": "text/x-python",
   "name": "python",
   "nbconvert_exporter": "python",
   "pygments_lexer": "ipython3",
   "version": "3.7.13"
  }
 },
 "nbformat": 4,
 "nbformat_minor": 5
}
